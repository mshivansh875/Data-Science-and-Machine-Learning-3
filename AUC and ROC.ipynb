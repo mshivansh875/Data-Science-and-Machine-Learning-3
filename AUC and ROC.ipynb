{
 "cells": [
  {
   "cell_type": "code",
   "execution_count": 1,
   "id": "5555bfe1-addd-43bf-89bc-9096ce79295b",
   "metadata": {},
   "outputs": [],
   "source": [
    "import pandas as pd\n",
    "from sklearn.datasets import make_classification\n",
    "from sklearn.model_selection import train_test_split"
   ]
  },
  {
   "cell_type": "code",
   "execution_count": 2,
   "id": "e6218fc3-eb87-4d2a-b975-860b5261816d",
   "metadata": {},
   "outputs": [],
   "source": [
    "X,y = make_classification(n_samples=1000,n_classes=2,n_features=20,random_state=27)"
   ]
  },
  {
   "cell_type": "code",
   "execution_count": 3,
   "id": "fa77bef8-302b-472a-9b45-f2f41e4dc179",
   "metadata": {},
   "outputs": [],
   "source": [
    "X_train,X_test,y_train,y_test= train_test_split(X,y,test_size=0.3,random_state = 27)"
   ]
  },
  {
   "cell_type": "code",
   "execution_count": 5,
   "id": "17ecdc7d-ff48-48ff-8b3b-24d92ac546bb",
   "metadata": {},
   "outputs": [
    {
     "data": {
      "text/html": [
       "<div>\n",
       "<style scoped>\n",
       "    .dataframe tbody tr th:only-of-type {\n",
       "        vertical-align: middle;\n",
       "    }\n",
       "\n",
       "    .dataframe tbody tr th {\n",
       "        vertical-align: top;\n",
       "    }\n",
       "\n",
       "    .dataframe thead th {\n",
       "        text-align: right;\n",
       "    }\n",
       "</style>\n",
       "<table border=\"1\" class=\"dataframe\">\n",
       "  <thead>\n",
       "    <tr style=\"text-align: right;\">\n",
       "      <th></th>\n",
       "      <th>0</th>\n",
       "      <th>1</th>\n",
       "      <th>2</th>\n",
       "      <th>3</th>\n",
       "      <th>4</th>\n",
       "      <th>5</th>\n",
       "      <th>6</th>\n",
       "      <th>7</th>\n",
       "      <th>8</th>\n",
       "      <th>9</th>\n",
       "      <th>10</th>\n",
       "      <th>11</th>\n",
       "      <th>12</th>\n",
       "      <th>13</th>\n",
       "      <th>14</th>\n",
       "      <th>15</th>\n",
       "      <th>16</th>\n",
       "      <th>17</th>\n",
       "      <th>18</th>\n",
       "      <th>19</th>\n",
       "    </tr>\n",
       "  </thead>\n",
       "  <tbody>\n",
       "    <tr>\n",
       "      <th>0</th>\n",
       "      <td>-0.258203</td>\n",
       "      <td>1.019808</td>\n",
       "      <td>1.524563</td>\n",
       "      <td>0.617243</td>\n",
       "      <td>0.148243</td>\n",
       "      <td>0.744111</td>\n",
       "      <td>-0.363963</td>\n",
       "      <td>1.549367</td>\n",
       "      <td>0.256960</td>\n",
       "      <td>-1.222225</td>\n",
       "      <td>0.636587</td>\n",
       "      <td>1.448634</td>\n",
       "      <td>-1.471582</td>\n",
       "      <td>1.918621</td>\n",
       "      <td>2.584944</td>\n",
       "      <td>2.638990</td>\n",
       "      <td>0.069881</td>\n",
       "      <td>0.332721</td>\n",
       "      <td>-0.175407</td>\n",
       "      <td>1.501124</td>\n",
       "    </tr>\n",
       "    <tr>\n",
       "      <th>1</th>\n",
       "      <td>-0.458166</td>\n",
       "      <td>0.828728</td>\n",
       "      <td>-0.656965</td>\n",
       "      <td>-0.056297</td>\n",
       "      <td>0.254895</td>\n",
       "      <td>-0.018241</td>\n",
       "      <td>0.313829</td>\n",
       "      <td>-0.386936</td>\n",
       "      <td>-1.632152</td>\n",
       "      <td>-2.059698</td>\n",
       "      <td>0.356881</td>\n",
       "      <td>-1.400478</td>\n",
       "      <td>0.326012</td>\n",
       "      <td>1.058607</td>\n",
       "      <td>-0.668410</td>\n",
       "      <td>-0.622784</td>\n",
       "      <td>-0.405360</td>\n",
       "      <td>1.201937</td>\n",
       "      <td>-0.255835</td>\n",
       "      <td>-0.199313</td>\n",
       "    </tr>\n",
       "    <tr>\n",
       "      <th>2</th>\n",
       "      <td>-0.387378</td>\n",
       "      <td>0.761818</td>\n",
       "      <td>-1.310351</td>\n",
       "      <td>-0.351663</td>\n",
       "      <td>-0.130643</td>\n",
       "      <td>-0.641420</td>\n",
       "      <td>0.152001</td>\n",
       "      <td>0.941251</td>\n",
       "      <td>1.381526</td>\n",
       "      <td>-1.803593</td>\n",
       "      <td>0.749451</td>\n",
       "      <td>0.325846</td>\n",
       "      <td>0.742814</td>\n",
       "      <td>0.981221</td>\n",
       "      <td>-1.600239</td>\n",
       "      <td>-1.550548</td>\n",
       "      <td>-0.232538</td>\n",
       "      <td>-1.033209</td>\n",
       "      <td>-1.686671</td>\n",
       "      <td>-0.766836</td>\n",
       "    </tr>\n",
       "    <tr>\n",
       "      <th>3</th>\n",
       "      <td>-2.394585</td>\n",
       "      <td>-0.036724</td>\n",
       "      <td>1.361228</td>\n",
       "      <td>-0.371470</td>\n",
       "      <td>1.871835</td>\n",
       "      <td>-1.226815</td>\n",
       "      <td>0.770733</td>\n",
       "      <td>-0.566035</td>\n",
       "      <td>0.688286</td>\n",
       "      <td>1.052618</td>\n",
       "      <td>-1.122666</td>\n",
       "      <td>-0.028873</td>\n",
       "      <td>0.498517</td>\n",
       "      <td>-1.113630</td>\n",
       "      <td>1.640086</td>\n",
       "      <td>1.585018</td>\n",
       "      <td>-1.921666</td>\n",
       "      <td>-1.177293</td>\n",
       "      <td>-1.784434</td>\n",
       "      <td>0.132557</td>\n",
       "    </tr>\n",
       "    <tr>\n",
       "      <th>4</th>\n",
       "      <td>0.258229</td>\n",
       "      <td>-1.600952</td>\n",
       "      <td>1.101282</td>\n",
       "      <td>1.659578</td>\n",
       "      <td>0.927923</td>\n",
       "      <td>-0.093182</td>\n",
       "      <td>-1.778309</td>\n",
       "      <td>0.485978</td>\n",
       "      <td>-0.918154</td>\n",
       "      <td>-0.765634</td>\n",
       "      <td>0.601260</td>\n",
       "      <td>0.776797</td>\n",
       "      <td>0.182804</td>\n",
       "      <td>-0.963276</td>\n",
       "      <td>1.312165</td>\n",
       "      <td>1.265336</td>\n",
       "      <td>0.709714</td>\n",
       "      <td>-1.534325</td>\n",
       "      <td>0.698777</td>\n",
       "      <td>-1.625380</td>\n",
       "    </tr>\n",
       "  </tbody>\n",
       "</table>\n",
       "</div>"
      ],
      "text/plain": [
       "         0         1         2         3         4         5         6   \\\n",
       "0 -0.258203  1.019808  1.524563  0.617243  0.148243  0.744111 -0.363963   \n",
       "1 -0.458166  0.828728 -0.656965 -0.056297  0.254895 -0.018241  0.313829   \n",
       "2 -0.387378  0.761818 -1.310351 -0.351663 -0.130643 -0.641420  0.152001   \n",
       "3 -2.394585 -0.036724  1.361228 -0.371470  1.871835 -1.226815  0.770733   \n",
       "4  0.258229 -1.600952  1.101282  1.659578  0.927923 -0.093182 -1.778309   \n",
       "\n",
       "         7         8         9         10        11        12        13  \\\n",
       "0  1.549367  0.256960 -1.222225  0.636587  1.448634 -1.471582  1.918621   \n",
       "1 -0.386936 -1.632152 -2.059698  0.356881 -1.400478  0.326012  1.058607   \n",
       "2  0.941251  1.381526 -1.803593  0.749451  0.325846  0.742814  0.981221   \n",
       "3 -0.566035  0.688286  1.052618 -1.122666 -0.028873  0.498517 -1.113630   \n",
       "4  0.485978 -0.918154 -0.765634  0.601260  0.776797  0.182804 -0.963276   \n",
       "\n",
       "         14        15        16        17        18        19  \n",
       "0  2.584944  2.638990  0.069881  0.332721 -0.175407  1.501124  \n",
       "1 -0.668410 -0.622784 -0.405360  1.201937 -0.255835 -0.199313  \n",
       "2 -1.600239 -1.550548 -0.232538 -1.033209 -1.686671 -0.766836  \n",
       "3  1.640086  1.585018 -1.921666 -1.177293 -1.784434  0.132557  \n",
       "4  1.312165  1.265336  0.709714 -1.534325  0.698777 -1.625380  "
      ]
     },
     "execution_count": 5,
     "metadata": {},
     "output_type": "execute_result"
    }
   ],
   "source": [
    "pd.DataFrame(X).head()"
   ]
  },
  {
   "cell_type": "code",
   "execution_count": 7,
   "id": "b4ababf7-d1bc-4d12-9075-60b319e57c34",
   "metadata": {},
   "outputs": [
    {
     "data": {
      "text/plain": [
       "0    1\n",
       "1    1\n",
       "2    1\n",
       "3    0\n",
       "4    0\n",
       "dtype: int32"
      ]
     },
     "execution_count": 7,
     "metadata": {},
     "output_type": "execute_result"
    }
   ],
   "source": [
    "pd.Series(y).head()"
   ]
  },
  {
   "cell_type": "code",
   "execution_count": 9,
   "id": "dfdd969b-bfa1-4872-9b82-d3bc449da55a",
   "metadata": {},
   "outputs": [
    {
     "data": {
      "text/plain": [
       "array([1, 0, 1, 0, 1, 0, 0, 0, 1, 1, 1, 0, 1, 0, 0, 0, 0, 1, 0, 0, 0, 0,\n",
       "       0, 1, 0, 1, 1, 0, 0, 0, 0, 0, 0, 0, 1, 1, 0, 0, 1, 0, 1, 0, 0, 1,\n",
       "       1, 1, 0, 1, 0, 0, 1, 1, 1, 1, 1, 0, 1, 1, 1, 0, 1, 1, 0, 0, 1, 0,\n",
       "       0, 1, 0, 1, 1, 1, 0, 0, 0, 0, 1, 1, 1, 1, 0, 1, 0, 0, 1, 0, 0, 0,\n",
       "       1, 0, 0, 1, 0, 0, 0, 0, 0, 1, 0, 0, 0, 0, 1, 0, 0, 1, 1, 0, 1, 0,\n",
       "       1, 1, 0, 0, 1, 1, 0, 1, 0, 0, 0, 0, 0, 1, 0, 1, 0, 0, 0, 1, 0, 0,\n",
       "       0, 0, 1, 0, 0, 0, 1, 1, 0, 1, 1, 1, 1, 1, 0, 0, 0, 1, 1, 1, 0, 1,\n",
       "       0, 1, 0, 1, 0, 0, 1, 0, 0, 0, 0, 1, 1, 1, 1, 0, 0, 1, 1, 1, 1, 0,\n",
       "       1, 0, 1, 1, 1, 1, 0, 0, 0, 0, 0, 0, 1, 1, 1, 1, 0, 0, 0, 0, 0, 0,\n",
       "       0, 0, 0, 0, 1, 1, 0, 1, 0, 0, 1, 1, 0, 1, 0, 1, 0, 1, 1, 0, 0, 0,\n",
       "       1, 1, 1, 0, 1, 1, 0, 0, 0, 0, 0, 0, 1, 1, 1, 0, 1, 0, 0, 1, 0, 1,\n",
       "       0, 1, 1, 0, 1, 0, 0, 0, 0, 0, 0, 0, 0, 0, 1, 0, 1, 1, 0, 1, 1, 0,\n",
       "       1, 0, 0, 1, 0, 1, 0, 0, 1, 0, 1, 1, 0, 1, 1, 0, 0, 1, 0, 0, 1, 0,\n",
       "       0, 1, 0, 0, 1, 1, 0, 0, 0, 0, 1, 1, 1, 0])"
      ]
     },
     "execution_count": 9,
     "metadata": {},
     "output_type": "execute_result"
    }
   ],
   "source": [
    "from sklearn.linear_model import LogisticRegression\n",
    "lr = LogisticRegression()\n",
    "lr.fit(X_train,y_train)\n",
    "lr.predict(X_test)"
   ]
  },
  {
   "cell_type": "code",
   "execution_count": 10,
   "id": "db854c6e-c180-4b55-83bc-96e3dd5c5dd5",
   "metadata": {},
   "outputs": [
    {
     "data": {
      "text/plain": [
       "array([0, 0, 1, 0, 1, 0, 0, 0, 1, 0, 0, 0, 0, 0, 0, 0, 0, 1, 0, 0, 0, 0,\n",
       "       0, 1, 0, 1, 1, 0, 0, 0, 0, 0, 0, 1, 0, 1, 0, 0, 0, 0, 1, 1, 0, 1,\n",
       "       1, 1, 0, 1, 0, 0, 0, 1, 1, 1, 1, 0, 1, 1, 1, 0, 1, 1, 0, 0, 1, 0,\n",
       "       0, 1, 0, 1, 1, 1, 0, 0, 0, 0, 0, 1, 1, 1, 1, 1, 1, 0, 0, 0, 0, 0,\n",
       "       1, 0, 0, 1, 0, 0, 0, 0, 0, 1, 0, 0, 0, 0, 1, 0, 0, 1, 0, 0, 0, 0,\n",
       "       1, 0, 0, 0, 1, 1, 1, 1, 0, 1, 0, 0, 0, 1, 0, 1, 0, 0, 0, 1, 0, 0,\n",
       "       0, 0, 1, 0, 0, 0, 1, 1, 0, 1, 1, 1, 0, 1, 0, 0, 0, 1, 1, 1, 0, 1,\n",
       "       0, 1, 0, 1, 0, 0, 1, 0, 0, 0, 0, 1, 0, 0, 1, 0, 0, 1, 1, 1, 1, 0,\n",
       "       1, 0, 1, 1, 1, 1, 0, 0, 1, 0, 0, 0, 1, 1, 0, 1, 0, 0, 0, 1, 0, 0,\n",
       "       0, 0, 0, 0, 1, 1, 0, 1, 0, 0, 1, 1, 0, 1, 0, 0, 0, 1, 1, 0, 0, 0,\n",
       "       1, 1, 1, 0, 1, 1, 0, 0, 0, 0, 0, 0, 1, 1, 0, 0, 1, 0, 0, 1, 0, 1,\n",
       "       0, 1, 1, 0, 0, 0, 0, 0, 0, 0, 0, 0, 0, 0, 1, 0, 1, 1, 0, 1, 1, 0,\n",
       "       0, 0, 0, 1, 0, 0, 0, 0, 1, 0, 1, 1, 0, 0, 1, 0, 0, 1, 1, 0, 1, 1,\n",
       "       0, 1, 0, 0, 1, 1, 0, 0, 0, 0, 1, 1, 1, 0])"
      ]
     },
     "execution_count": 10,
     "metadata": {},
     "output_type": "execute_result"
    }
   ],
   "source": [
    "from sklearn.neighbors import KNeighborsClassifier\n",
    "knn = KNeighborsClassifier(n_neighbors=4)\n",
    "knn.fit(X_train,y_train)\n",
    "knn.predict(X_test)"
   ]
  },
  {
   "cell_type": "code",
   "execution_count": null,
   "id": "7c532374-be34-415f-86e8-870268e6e89e",
   "metadata": {},
   "outputs": [],
   "source": []
  }
 ],
 "metadata": {
  "kernelspec": {
   "display_name": "Python 3 (ipykernel)",
   "language": "python",
   "name": "python3"
  },
  "language_info": {
   "codemirror_mode": {
    "name": "ipython",
    "version": 3
   },
   "file_extension": ".py",
   "mimetype": "text/x-python",
   "name": "python",
   "nbconvert_exporter": "python",
   "pygments_lexer": "ipython3",
   "version": "3.12.3"
  }
 },
 "nbformat": 4,
 "nbformat_minor": 5
}
